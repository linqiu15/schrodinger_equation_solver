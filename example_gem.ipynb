{
 "cells": [
  {
   "cell_type": "code",
   "execution_count": 1,
   "id": "f3b7572c",
   "metadata": {},
   "outputs": [
    {
     "name": "stderr",
     "output_type": "stream",
     "text": [
      "\n",
      "(process:19208): GLib-GIO-WARNING **: 23:32:12.747: Unexpectedly, UWP app `KDEe.V.Okular_21.1203.941.0_x64__7vt06qxq7ptv8' (AUMId `KDEe.V.Okular_7vt06qxq7ptv8!KDEe.V.Okular') supports 5 extensions but has no verbs\n"
     ]
    }
   ],
   "source": [
    "# possibly used packages\n",
    "using QuadGK,LaTeXStrings,BenchmarkTools;\n",
    "using LinearAlgebra,Roots;\n",
    "using Plots;\n",
    "default(framestyle = :box, minorticks = 5, size=(400,300));"
   ]
  },
  {
   "cell_type": "code",
   "execution_count": 2,
   "id": "6046c2cd",
   "metadata": {},
   "outputs": [],
   "source": [
    "global xxx,www;"
   ]
  },
  {
   "cell_type": "code",
   "execution_count": 3,
   "id": "f8d84215",
   "metadata": {},
   "outputs": [],
   "source": [
    "# 40 gaussian quadrature points will be enough for most cases.\n",
    "xxx,www=gauss(40,0,1);"
   ]
  },
  {
   "cell_type": "markdown",
   "id": "760c424a",
   "metadata": {},
   "source": [
    "# Introduction\n",
    "This notebook illustrates how to solve the following Coupled-channel Schrodinger equation using Gaussian-Expansion-Method as described in [Gaussian expansion method for few-body systems](https://www.sciencedirect.com/science/article/abs/pii/S0146641003900159?via%3Dihub).\n",
    "\\begin{equation}\n",
    "[-\\frac{\\hbar^2}{2\\mu_i}\\bigtriangledown^2+\\Delta E_i]\\psi_i(\\vec{r})+\\sum_j V_{ij}\\psi_j(\\vec{r})=E\\psi_i(\\vec{r})\n",
    "\\end{equation}\n",
    "or radially,i.e. $u_i(r)=r \\psi_i(r)$,\n",
    "\\begin{equation}\n",
    "[-\\frac{\\hbar^2}{2\\mu_i}\\frac{d^2}{dr^2}+\\frac{\\hbar^2l_i(l_i+1)}{2\\mu_ir^2}+\\Delta E_i]u_i+\\sum_j V_{ij}u_j=Eu_i\n",
    "\\end{equation}\n",
    "For a better understanding, the necessary ingredients will be explained next!"
   ]
  },
  {
   "cell_type": "markdown",
   "id": "c663dd98",
   "metadata": {},
   "source": [
    "If we expand the wave function with given basis(we choose Gaussian basis functions here), i.e.\n",
    "\\begin{align}\n",
    "\\psi^{(i)}_{lm}(\\vec{r})&=\\sum_{n=1}^{n_{max}}c^{(i)}_{nl}\\phi_{nlm}^{(i)}(\\vec{r})\\\\\n",
    "\\phi_{nlm}^{(i)}(\\vec{r})&=\\phi_{nl}^{(i)}(r)Y_{lm}({\\hat{r}})\\\\\n",
    "\\phi_{nl}^{(i)}(r)&=N_{nl_i}r^{l_i}e^{-\\nu_n r^2}\\\\\n",
    "N_{nl_i}&=(\\frac{2^{l_i+2}(2\\nu_n)^{l_i+3/2}}{\\sqrt{\\pi}(2l_i+1)!!})^{1/2}\n",
    "\\end{align}\n",
    "In practice, the set of Gaussian size parameters($\\nu_i$) works well when in geometric progression\n",
    "\\begin{align}\n",
    "\\nu_n&=\\frac{1}{r_n^2}\\\\\n",
    "r_n&=r_1a^{n-1}\\\\\n",
    "\\Rightarrow \\nu_n&=\\frac{1}{r_1^2}(\\frac{r_1}{r_{n_{max}}})^{\\frac{2(n-1)}{n_{max}-1}}\n",
    "\\end{align}\n",
    "Thus, we adopt three parameters $\\{n_{max},r_1,r_{n_{max}}\\}$ to represent the gaussian basis set. "
   ]
  },
  {
   "cell_type": "markdown",
   "id": "67d7c5c6",
   "metadata": {},
   "source": [
    "Under such a basis, the Coupled-Channel Schrodinger equation turns to be a generalized matrix eigenvalue problem:\n",
    "\\begin{align}\n",
    "\\left[\\begin{pmatrix}\\Box^{(1)}& & \\\\&... &\\\\ & & \\Box^{(n)}\\end{pmatrix}\n",
    "+\\begin{pmatrix}\\bigstar^{(11)}&...&..\\\\...&...&...\\\\...&...&\\bigstar^{(nn)}\\end{pmatrix}\n",
    "+\\begin{pmatrix}\\Delta E_1\\cdot \\blacksquare^{(1)}& & \\\\&... &\\\\ & &\\Delta E_n\\cdot \\blacksquare^{(n)}\\end{pmatrix}\\right]\n",
    "\\begin{pmatrix}c_1^{(1)}\\\\...\\\\c_{n_{nmax}}^{(n)}\\end{pmatrix}=E\\begin{pmatrix}c_1^{(1)}\\\\...\\\\c_{n_{nmax}}^{(n)}\\end{pmatrix}\n",
    "\\end{align}"
   ]
  },
  {
   "cell_type": "markdown",
   "id": "9311f6a6",
   "metadata": {},
   "source": [
    "where $\\Box$, $\\bigstar$ and $\\blacksquare$ refer to the submatrix of T- , V- and N matrix with their elements specified in the following,\n",
    "\n",
    "\\begin{align}\n",
    "\\Box^{(i)}_{n,n'}&=\\langle\\phi_{nlm}^G|-\\frac{\\hbar^2}{2\\mu_i}\\bigtriangledown^2|\\phi_{n'lm}^G\\rangle=\\frac{\\hbar^2}{\\mu_i}\\frac{(2l_i+3)\\nu_n\\nu_{n'}}{\\nu_n+\\nu_{n'}}(\\frac{2\\sqrt{\\nu_n\\nu_{n'}}}{\\nu_n+\\nu_{n'}})^{l_i+3/2}\\\\\n",
    "\\bigstar^{(ij)}_{n,n'}&=\\langle\\phi_{nlm}^G|V^{(ij)}|\\phi_{n'lm}^G\\rangle=N_{nl_i}N_{n'l_i}\\int_0^{\\infty}r^{2l_i}e^{-(\\nu_n+\\nu_{n'})r^2}V^{(ij)}(r)r^2dr\\\\\n",
    "\\blacksquare^{(i)}_{n,n'}&=\\langle\\phi_{nlm}^G|\\phi_{n'lm}^G\\rangle=(\\frac{2\\sqrt{\\nu_n\\nu_{n'}}}{\\nu_n+\\nu_{n'}})^{l_i+3/2}\n",
    "\\end{align}"
   ]
  },
  {
   "cell_type": "markdown",
   "id": "0e8eecbe",
   "metadata": {},
   "source": [
    "# Examples"
   ]
  },
  {
   "cell_type": "markdown",
   "id": "66fb5237",
   "metadata": {},
   "source": [
    "In the following, we take two examples in above paper for illustration."
   ]
  },
  {
   "cell_type": "markdown",
   "id": "7e2a890a",
   "metadata": {},
   "source": [
    "## Test for $^4He$ atomic dimer"
   ]
  },
  {
   "cell_type": "markdown",
   "id": "c4aae0a0",
   "metadata": {},
   "source": [
    "## Test for deuteron"
   ]
  },
  {
   "cell_type": "markdown",
   "id": "95f23223",
   "metadata": {},
   "source": [
    "# Try it yourself!"
   ]
  },
  {
   "cell_type": "markdown",
   "id": "bc0dd60d",
   "metadata": {},
   "source": []
  }
 ],
 "metadata": {
  "kernelspec": {
   "display_name": "Julia 1.7.2",
   "language": "julia",
   "name": "julia-1.7"
  },
  "language_info": {
   "file_extension": ".jl",
   "mimetype": "application/julia",
   "name": "julia",
   "version": "1.7.2"
  },
  "toc": {
   "base_numbering": 1,
   "nav_menu": {},
   "number_sections": true,
   "sideBar": true,
   "skip_h1_title": false,
   "title_cell": "Table of Contents",
   "title_sidebar": "Contents",
   "toc_cell": false,
   "toc_position": {},
   "toc_section_display": true,
   "toc_window_display": false
  }
 },
 "nbformat": 4,
 "nbformat_minor": 5
}
